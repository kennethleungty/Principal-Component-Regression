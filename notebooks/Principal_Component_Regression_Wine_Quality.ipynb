{
 "cells": [
  {
   "cell_type": "markdown",
   "id": "ce53095f",
   "metadata": {},
   "source": [
    "# Principal Component Regression on Wine Quality\n",
    "Author: Kenneth Leung"
   ]
  },
  {
   "cell_type": "markdown",
   "id": "5a016e65",
   "metadata": {},
   "source": [
    "### Import data and libraries"
   ]
  },
  {
   "cell_type": "code",
   "execution_count": 1,
   "id": "8336af28",
   "metadata": {},
   "outputs": [],
   "source": [
    "import numpy as np\n",
    "import pandas as pd\n",
    "import matplotlib.pyplot as plt\n",
    "\n",
    "from sklearn.preprocessing import scale \n",
    "from sklearn.linear_model import LinearRegression, Ridge, RidgeCV, Lasso, LassoCV\n",
    "from sklearn.model_selection import KFold, cross_val_score, train_test_split\n",
    "from sklearn.metrics import mean_squared_error\n",
    "from sklearn.decomposition import PCA"
   ]
  },
  {
   "cell_type": "code",
   "execution_count": 2,
   "id": "b4ef0d70",
   "metadata": {},
   "outputs": [
    {
     "data": {
      "text/html": [
       "<div>\n",
       "<style scoped>\n",
       "    .dataframe tbody tr th:only-of-type {\n",
       "        vertical-align: middle;\n",
       "    }\n",
       "\n",
       "    .dataframe tbody tr th {\n",
       "        vertical-align: top;\n",
       "    }\n",
       "\n",
       "    .dataframe thead th {\n",
       "        text-align: right;\n",
       "    }\n",
       "</style>\n",
       "<table border=\"1\" class=\"dataframe\">\n",
       "  <thead>\n",
       "    <tr style=\"text-align: right;\">\n",
       "      <th></th>\n",
       "      <th>fixed acidity</th>\n",
       "      <th>volatile acidity</th>\n",
       "      <th>citric acid</th>\n",
       "      <th>residual sugar</th>\n",
       "      <th>chlorides</th>\n",
       "      <th>free sulfur dioxide</th>\n",
       "      <th>total sulfur dioxide</th>\n",
       "      <th>density</th>\n",
       "      <th>pH</th>\n",
       "      <th>sulphates</th>\n",
       "      <th>alcohol</th>\n",
       "      <th>quality</th>\n",
       "    </tr>\n",
       "  </thead>\n",
       "  <tbody>\n",
       "    <tr>\n",
       "      <th>0</th>\n",
       "      <td>7.4</td>\n",
       "      <td>0.70</td>\n",
       "      <td>0.00</td>\n",
       "      <td>1.9</td>\n",
       "      <td>0.076</td>\n",
       "      <td>11.0</td>\n",
       "      <td>34.0</td>\n",
       "      <td>0.9978</td>\n",
       "      <td>3.51</td>\n",
       "      <td>0.56</td>\n",
       "      <td>9.4</td>\n",
       "      <td>5</td>\n",
       "    </tr>\n",
       "    <tr>\n",
       "      <th>1</th>\n",
       "      <td>7.8</td>\n",
       "      <td>0.88</td>\n",
       "      <td>0.00</td>\n",
       "      <td>2.6</td>\n",
       "      <td>0.098</td>\n",
       "      <td>25.0</td>\n",
       "      <td>67.0</td>\n",
       "      <td>0.9968</td>\n",
       "      <td>3.20</td>\n",
       "      <td>0.68</td>\n",
       "      <td>9.8</td>\n",
       "      <td>5</td>\n",
       "    </tr>\n",
       "    <tr>\n",
       "      <th>2</th>\n",
       "      <td>7.8</td>\n",
       "      <td>0.76</td>\n",
       "      <td>0.04</td>\n",
       "      <td>2.3</td>\n",
       "      <td>0.092</td>\n",
       "      <td>15.0</td>\n",
       "      <td>54.0</td>\n",
       "      <td>0.9970</td>\n",
       "      <td>3.26</td>\n",
       "      <td>0.65</td>\n",
       "      <td>9.8</td>\n",
       "      <td>5</td>\n",
       "    </tr>\n",
       "    <tr>\n",
       "      <th>3</th>\n",
       "      <td>11.2</td>\n",
       "      <td>0.28</td>\n",
       "      <td>0.56</td>\n",
       "      <td>1.9</td>\n",
       "      <td>0.075</td>\n",
       "      <td>17.0</td>\n",
       "      <td>60.0</td>\n",
       "      <td>0.9980</td>\n",
       "      <td>3.16</td>\n",
       "      <td>0.58</td>\n",
       "      <td>9.8</td>\n",
       "      <td>6</td>\n",
       "    </tr>\n",
       "    <tr>\n",
       "      <th>4</th>\n",
       "      <td>7.4</td>\n",
       "      <td>0.70</td>\n",
       "      <td>0.00</td>\n",
       "      <td>1.9</td>\n",
       "      <td>0.076</td>\n",
       "      <td>11.0</td>\n",
       "      <td>34.0</td>\n",
       "      <td>0.9978</td>\n",
       "      <td>3.51</td>\n",
       "      <td>0.56</td>\n",
       "      <td>9.4</td>\n",
       "      <td>5</td>\n",
       "    </tr>\n",
       "  </tbody>\n",
       "</table>\n",
       "</div>"
      ],
      "text/plain": [
       "   fixed acidity  volatile acidity  citric acid  residual sugar  chlorides  \\\n",
       "0            7.4              0.70         0.00             1.9      0.076   \n",
       "1            7.8              0.88         0.00             2.6      0.098   \n",
       "2            7.8              0.76         0.04             2.3      0.092   \n",
       "3           11.2              0.28         0.56             1.9      0.075   \n",
       "4            7.4              0.70         0.00             1.9      0.076   \n",
       "\n",
       "   free sulfur dioxide  total sulfur dioxide  density    pH  sulphates  \\\n",
       "0                 11.0                  34.0   0.9978  3.51       0.56   \n",
       "1                 25.0                  67.0   0.9968  3.20       0.68   \n",
       "2                 15.0                  54.0   0.9970  3.26       0.65   \n",
       "3                 17.0                  60.0   0.9980  3.16       0.58   \n",
       "4                 11.0                  34.0   0.9978  3.51       0.56   \n",
       "\n",
       "   alcohol  quality  \n",
       "0      9.4        5  \n",
       "1      9.8        5  \n",
       "2      9.8        5  \n",
       "3      9.8        6  \n",
       "4      9.4        5  "
      ]
     },
     "execution_count": 2,
     "metadata": {},
     "output_type": "execute_result"
    }
   ],
   "source": [
    "df = pd.read_csv('../data/winequality-red.csv', sep=';')\n",
    "df.head()"
   ]
  },
  {
   "cell_type": "markdown",
   "id": "593f88fe",
   "metadata": {},
   "source": [
    "### Data Preparation"
   ]
  },
  {
   "cell_type": "code",
   "execution_count": 3,
   "id": "76fc452b",
   "metadata": {},
   "outputs": [],
   "source": [
    "target = 'quality'\n",
    "X = df.drop(target,axis=1)\n",
    "y = df[target]"
   ]
  },
  {
   "cell_type": "markdown",
   "id": "414962ae",
   "metadata": {},
   "source": [
    "#### Train test split"
   ]
  },
  {
   "cell_type": "code",
   "execution_count": 4,
   "id": "2b42fcf2",
   "metadata": {},
   "outputs": [],
   "source": [
    "X_train, X_test, y_train, y_test = train_test_split(X, y, test_size=0.2, random_state=42)"
   ]
  },
  {
   "cell_type": "code",
   "execution_count": 5,
   "id": "ab1091a8",
   "metadata": {},
   "outputs": [
    {
     "data": {
      "text/plain": [
       "(1279, 11)"
      ]
     },
     "execution_count": 5,
     "metadata": {},
     "output_type": "execute_result"
    }
   ],
   "source": [
    "X_train.shape"
   ]
  },
  {
   "cell_type": "code",
   "execution_count": 6,
   "id": "d1c469d3",
   "metadata": {},
   "outputs": [
    {
     "data": {
      "text/plain": [
       "array([[ 0.21833164,  0.88971201,  0.19209222, ...,  1.09349989,\n",
       "         0.45822284,  1.12317723],\n",
       "       [-1.29016623, -1.78878251,  0.65275338, ..., -0.40043872,\n",
       "        -0.40119696,  1.40827174],\n",
       "       [ 1.49475291, -0.78434707,  1.01104539, ..., -0.07566946,\n",
       "         0.51551749, -0.58738978],\n",
       "       ...,\n",
       "       [-0.65195559,  0.49909822, -1.08752211, ...,  1.28836145,\n",
       "        -0.68767023, -0.87248428],\n",
       "       [-0.24582155, -1.84458448,  0.39683051, ...,  0.05423824,\n",
       "         0.80199076,  1.40827174],\n",
       "       [-1.46422367, -1.34236676, -0.06383064, ...,  0.50891521,\n",
       "        -0.68767023,  2.92877575]])"
      ]
     },
     "execution_count": 6,
     "metadata": {},
     "output_type": "execute_result"
    }
   ],
   "source": [
    "# Run standardization on X variables\n",
    "X_train_scaled, X_test_scaled = scale(X_train), scale(X_test)\n",
    "X_train_scaled"
   ]
  },
  {
   "cell_type": "markdown",
   "id": "ef81964e",
   "metadata": {},
   "source": [
    "___\n",
    "## Default Linear Regression Methods"
   ]
  },
  {
   "cell_type": "code",
   "execution_count": 7,
   "id": "ed00e4bc",
   "metadata": {},
   "outputs": [],
   "source": [
    "# Define cross-validation folds\n",
    "cv = KFold(n_splits=10, shuffle=True, random_state=42)"
   ]
  },
  {
   "cell_type": "markdown",
   "id": "625dc98f",
   "metadata": {},
   "source": [
    "### (1) Linear Regression (no regularization)"
   ]
  },
  {
   "cell_type": "markdown",
   "id": "82e3fbcb",
   "metadata": {},
   "source": [
    "#### Train set cross-validation"
   ]
  },
  {
   "cell_type": "code",
   "execution_count": 8,
   "id": "026cd8b5",
   "metadata": {},
   "outputs": [],
   "source": [
    "lin_reg = LinearRegression().fit(X_train_scaled, y_train)"
   ]
  },
  {
   "cell_type": "code",
   "execution_count": 9,
   "id": "a7c44b3f",
   "metadata": {},
   "outputs": [
    {
     "data": {
      "text/plain": [
       "array([0.62488284, 0.66429979, 0.66716067, 0.6295327 , 0.66799473,\n",
       "       0.69598139, 0.68086448, 0.63361346, 0.72020402, 0.61559878])"
      ]
     },
     "execution_count": 9,
     "metadata": {},
     "output_type": "execute_result"
    }
   ],
   "source": [
    "lr_scores = -1 * cross_val_score(lin_reg, X_train_scaled, y_train, \n",
    "                                 cv=cv, scoring='neg_root_mean_squared_error')\n",
    "lr_scores"
   ]
  },
  {
   "cell_type": "code",
   "execution_count": 10,
   "id": "9446a010",
   "metadata": {},
   "outputs": [
    {
     "data": {
      "text/plain": [
       "0.6600132879171828"
      ]
     },
     "execution_count": 10,
     "metadata": {},
     "output_type": "execute_result"
    }
   ],
   "source": [
    "lr_score_train = np.mean(lr_scores)\n",
    "lr_score_train"
   ]
  },
  {
   "cell_type": "markdown",
   "id": "82e1877f",
   "metadata": {},
   "source": [
    "#### Predict"
   ]
  },
  {
   "cell_type": "code",
   "execution_count": 11,
   "id": "480e33c2",
   "metadata": {},
   "outputs": [
    {
     "data": {
      "text/plain": [
       "0.6251306211067054"
      ]
     },
     "execution_count": 11,
     "metadata": {},
     "output_type": "execute_result"
    }
   ],
   "source": [
    "y_predicted = lin_reg.predict(X_test_scaled)\n",
    "lr_score_test = mean_squared_error(y_test, y_predicted, squared=False)\n",
    "lr_score_test"
   ]
  },
  {
   "cell_type": "markdown",
   "id": "7d7aa8f8",
   "metadata": {},
   "source": [
    "___\n",
    "## (2) Lasso Regression (L1 regularization)"
   ]
  },
  {
   "cell_type": "markdown",
   "id": "f94c532a",
   "metadata": {},
   "source": [
    "#### Train set cross-validation"
   ]
  },
  {
   "cell_type": "code",
   "execution_count": 12,
   "id": "2d5d9f63",
   "metadata": {},
   "outputs": [],
   "source": [
    "lasso_reg = LassoCV().fit(X_train_scaled, y_train)"
   ]
  },
  {
   "cell_type": "code",
   "execution_count": 13,
   "id": "fef4b9b0",
   "metadata": {},
   "outputs": [
    {
     "data": {
      "text/plain": [
       "array([0.62870156, 0.66402032, 0.66782287, 0.62423568, 0.665409  ,\n",
       "       0.69646847, 0.67901585, 0.63136541, 0.72231439, 0.612298  ])"
      ]
     },
     "execution_count": 13,
     "metadata": {},
     "output_type": "execute_result"
    }
   ],
   "source": [
    "lasso_scores = -1 * cross_val_score(lasso_reg, X_train_scaled, y_train, \n",
    "                              cv=cv, scoring='neg_root_mean_squared_error')\n",
    "lasso_scores"
   ]
  },
  {
   "cell_type": "code",
   "execution_count": 14,
   "id": "d4876b28",
   "metadata": {},
   "outputs": [
    {
     "data": {
      "text/plain": [
       "0.6591651547142681"
      ]
     },
     "execution_count": 14,
     "metadata": {},
     "output_type": "execute_result"
    }
   ],
   "source": [
    "lasso_score_train = np.mean(lasso_scores)\n",
    "lasso_score_train"
   ]
  },
  {
   "cell_type": "markdown",
   "id": "8c8a486a",
   "metadata": {},
   "source": [
    "#### Predict"
   ]
  },
  {
   "cell_type": "code",
   "execution_count": 15,
   "id": "fc6503d6",
   "metadata": {},
   "outputs": [
    {
     "data": {
      "text/plain": [
       "0.6270782498171976"
      ]
     },
     "execution_count": 15,
     "metadata": {},
     "output_type": "execute_result"
    }
   ],
   "source": [
    "y_predicted = lasso_reg.predict(X_test_scaled)\n",
    "lasso_score_test = mean_squared_error(y_test, y_predicted, squared=False)\n",
    "lasso_score_test"
   ]
  },
  {
   "cell_type": "markdown",
   "id": "688fa848",
   "metadata": {},
   "source": [
    "___\n",
    "### (3) Ridge Regression (L2 regularization)"
   ]
  },
  {
   "cell_type": "markdown",
   "id": "3cb211dd",
   "metadata": {},
   "source": [
    "#### Train set cross-validation"
   ]
  },
  {
   "cell_type": "code",
   "execution_count": 16,
   "id": "5370bcfa",
   "metadata": {},
   "outputs": [],
   "source": [
    "ridge_reg = RidgeCV().fit(X_train_scaled, y_train)"
   ]
  },
  {
   "cell_type": "code",
   "execution_count": 17,
   "id": "560cfe01",
   "metadata": {},
   "outputs": [
    {
     "data": {
      "text/plain": [
       "array([0.62526896, 0.66348007, 0.66731685, 0.62836003, 0.66768925,\n",
       "       0.69504426, 0.68018788, 0.63400813, 0.72055488, 0.61482855])"
      ]
     },
     "execution_count": 17,
     "metadata": {},
     "output_type": "execute_result"
    }
   ],
   "source": [
    "ridge_scores = -1 * cross_val_score(ridge_reg, X_train_scaled, y_train, \n",
    "                                    cv=cv, scoring='neg_root_mean_squared_error')\n",
    "ridge_scores"
   ]
  },
  {
   "cell_type": "code",
   "execution_count": 18,
   "id": "9c7afb3b",
   "metadata": {},
   "outputs": [
    {
     "data": {
      "text/plain": [
       "0.6596738864224237"
      ]
     },
     "execution_count": 18,
     "metadata": {},
     "output_type": "execute_result"
    }
   ],
   "source": [
    "ridge_score_train = np.mean(ridge_scores)\n",
    "ridge_score_train"
   ]
  },
  {
   "cell_type": "markdown",
   "id": "bb8a5fd0",
   "metadata": {},
   "source": [
    "#### Predict"
   ]
  },
  {
   "cell_type": "code",
   "execution_count": 19,
   "id": "dc0912a7",
   "metadata": {},
   "outputs": [
    {
     "data": {
      "text/plain": [
       "0.6252454963271415"
      ]
     },
     "execution_count": 19,
     "metadata": {},
     "output_type": "execute_result"
    }
   ],
   "source": [
    "y_predicted = ridge_reg.predict(X_test_scaled)\n",
    "ridge_score_test = mean_squared_error(y_test, y_predicted, squared=False)\n",
    "ridge_score_test"
   ]
  },
  {
   "cell_type": "markdown",
   "id": "5e230eef",
   "metadata": {},
   "source": [
    "___\n",
    "### Principal Components Regression"
   ]
  },
  {
   "cell_type": "markdown",
   "id": "a742cc4a",
   "metadata": {},
   "source": [
    "#### Evaluate for different number of principal components"
   ]
  },
  {
   "cell_type": "code",
   "execution_count": 20,
   "id": "900cf52f",
   "metadata": {},
   "outputs": [],
   "source": [
    "lin_reg = LinearRegression()\n",
    "rmse_list = []"
   ]
  },
  {
   "cell_type": "code",
   "execution_count": 21,
   "id": "876ec69f",
   "metadata": {},
   "outputs": [
    {
     "data": {
      "text/plain": [
       "(1279, 11)"
      ]
     },
     "execution_count": 21,
     "metadata": {},
     "output_type": "execute_result"
    }
   ],
   "source": [
    "# First generate all the principal components\n",
    "pca = PCA()\n",
    "X_train_pc = pca.fit_transform(X_train_scaled)\n",
    "X_train_pc.shape"
   ]
  },
  {
   "cell_type": "code",
   "execution_count": 22,
   "id": "24c15c57",
   "metadata": {},
   "outputs": [
    {
     "data": {
      "text/plain": [
       "array([0.2801769 , 0.17563995, 0.13957636, 0.11081822, 0.09021248,\n",
       "       0.05908698, 0.05266627, 0.03883888, 0.03129468, 0.01600997,\n",
       "       0.0056793 ])"
      ]
     },
     "execution_count": 22,
     "metadata": {},
     "output_type": "execute_result"
    }
   ],
   "source": [
    "# View explained variance ratio for each principal component\n",
    "pca.explained_variance_ratio_"
   ]
  },
  {
   "cell_type": "code",
   "execution_count": 23,
   "id": "1ca83e36",
   "metadata": {},
   "outputs": [
    {
     "data": {
      "text/html": [
       "<div>\n",
       "<style scoped>\n",
       "    .dataframe tbody tr th:only-of-type {\n",
       "        vertical-align: middle;\n",
       "    }\n",
       "\n",
       "    .dataframe tbody tr th {\n",
       "        vertical-align: top;\n",
       "    }\n",
       "\n",
       "    .dataframe thead th {\n",
       "        text-align: right;\n",
       "    }\n",
       "</style>\n",
       "<table border=\"1\" class=\"dataframe\">\n",
       "  <thead>\n",
       "    <tr style=\"text-align: right;\">\n",
       "      <th></th>\n",
       "      <th>0</th>\n",
       "      <th>1</th>\n",
       "      <th>2</th>\n",
       "      <th>3</th>\n",
       "      <th>4</th>\n",
       "      <th>5</th>\n",
       "      <th>6</th>\n",
       "      <th>7</th>\n",
       "      <th>8</th>\n",
       "      <th>9</th>\n",
       "      <th>10</th>\n",
       "    </tr>\n",
       "  </thead>\n",
       "  <tbody>\n",
       "    <tr>\n",
       "      <th>0</th>\n",
       "      <td>0.486819</td>\n",
       "      <td>-0.109289</td>\n",
       "      <td>-0.151640</td>\n",
       "      <td>-0.211996</td>\n",
       "      <td>-0.116956</td>\n",
       "      <td>0.151683</td>\n",
       "      <td>-0.334642</td>\n",
       "      <td>-0.176844</td>\n",
       "      <td>-0.205265</td>\n",
       "      <td>-0.236659</td>\n",
       "      <td>0.636428</td>\n",
       "    </tr>\n",
       "    <tr>\n",
       "      <th>1</th>\n",
       "      <td>-0.230695</td>\n",
       "      <td>0.293355</td>\n",
       "      <td>-0.442608</td>\n",
       "      <td>0.128183</td>\n",
       "      <td>0.204407</td>\n",
       "      <td>0.476617</td>\n",
       "      <td>-0.468471</td>\n",
       "      <td>-0.081351</td>\n",
       "      <td>0.129516</td>\n",
       "      <td>0.369572</td>\n",
       "      <td>-0.001684</td>\n",
       "    </tr>\n",
       "    <tr>\n",
       "      <th>2</th>\n",
       "      <td>0.467369</td>\n",
       "      <td>-0.157400</td>\n",
       "      <td>0.220984</td>\n",
       "      <td>-0.097646</td>\n",
       "      <td>-0.055669</td>\n",
       "      <td>0.067697</td>\n",
       "      <td>0.140384</td>\n",
       "      <td>-0.383500</td>\n",
       "      <td>0.348557</td>\n",
       "      <td>0.629722</td>\n",
       "      <td>-0.076931</td>\n",
       "    </tr>\n",
       "    <tr>\n",
       "      <th>3</th>\n",
       "      <td>0.152336</td>\n",
       "      <td>0.239182</td>\n",
       "      <td>0.049249</td>\n",
       "      <td>-0.406056</td>\n",
       "      <td>0.722412</td>\n",
       "      <td>0.040310</td>\n",
       "      <td>0.280960</td>\n",
       "      <td>0.324788</td>\n",
       "      <td>0.014840</td>\n",
       "      <td>0.076839</td>\n",
       "      <td>0.195514</td>\n",
       "    </tr>\n",
       "    <tr>\n",
       "      <th>4</th>\n",
       "      <td>0.216295</td>\n",
       "      <td>0.149466</td>\n",
       "      <td>-0.021770</td>\n",
       "      <td>0.663833</td>\n",
       "      <td>0.286446</td>\n",
       "      <td>0.234620</td>\n",
       "      <td>0.391538</td>\n",
       "      <td>-0.352225</td>\n",
       "      <td>-0.128421</td>\n",
       "      <td>-0.236930</td>\n",
       "      <td>0.051357</td>\n",
       "    </tr>\n",
       "  </tbody>\n",
       "</table>\n",
       "</div>"
      ],
      "text/plain": [
       "         0         1         2         3         4         5         6   \\\n",
       "0  0.486819 -0.109289 -0.151640 -0.211996 -0.116956  0.151683 -0.334642   \n",
       "1 -0.230695  0.293355 -0.442608  0.128183  0.204407  0.476617 -0.468471   \n",
       "2  0.467369 -0.157400  0.220984 -0.097646 -0.055669  0.067697  0.140384   \n",
       "3  0.152336  0.239182  0.049249 -0.406056  0.722412  0.040310  0.280960   \n",
       "4  0.216295  0.149466 -0.021770  0.663833  0.286446  0.234620  0.391538   \n",
       "\n",
       "         7         8         9         10  \n",
       "0 -0.176844 -0.205265 -0.236659  0.636428  \n",
       "1 -0.081351  0.129516  0.369572 -0.001684  \n",
       "2 -0.383500  0.348557  0.629722 -0.076931  \n",
       "3  0.324788  0.014840  0.076839  0.195514  \n",
       "4 -0.352225 -0.128421 -0.236930  0.051357  "
      ]
     },
     "execution_count": 23,
     "metadata": {},
     "output_type": "execute_result"
    }
   ],
   "source": [
    "# View first 5 rows of all principal components\n",
    "pd.DataFrame(pca.components_.T).loc[:4,:]"
   ]
  },
  {
   "cell_type": "code",
   "execution_count": 24,
   "id": "7eb75aad",
   "metadata": {},
   "outputs": [],
   "source": [
    "# Loop through different count of principal components for linear regression\n",
    "for i in range(1, X_train_pc.shape[1]+1):\n",
    "    rmse_score = -1 * cross_val_score(lin_reg, X_train_pc[:,:i], # Use first i principal components\n",
    "                                      y_train, cv=cv, \n",
    "                                      scoring='neg_root_mean_squared_error').mean()\n",
    "    rmse_list.append(rmse_score)"
   ]
  },
  {
   "cell_type": "code",
   "execution_count": 25,
   "id": "04b6abd6",
   "metadata": {},
   "outputs": [
    {
     "data": {
      "text/plain": [
       "[0.8031625853284308,\n",
       " 0.7343312058799241,\n",
       " 0.6742899891697899,\n",
       " 0.6709500084239395,\n",
       " 0.6676164617485616,\n",
       " 0.6682324071161514,\n",
       " 0.663885486700465,\n",
       " 0.6635084510224303,\n",
       " 0.6590578212521202,\n",
       " 0.6588098396621652,\n",
       " 0.6600132879171828]"
      ]
     },
     "execution_count": 25,
     "metadata": {},
     "output_type": "execute_result"
    }
   ],
   "source": [
    "rmse_list"
   ]
  },
  {
   "cell_type": "code",
   "execution_count": 26,
   "id": "b2c4771c",
   "metadata": {
    "scrolled": true
   },
   "outputs": [
    {
     "data": {
      "image/png": "[encoded data removed]",
      "text/plain": [
       "<Figure size 432x288 with 1 Axes>"
      ]
     },
     "metadata": {
      "needs_background": "light"
     },
     "output_type": "display_data"
    }
   ],
   "source": [
    "# Plot RMSE vs count of principal components used\n",
    "plt.plot(rmse_list, '-o')\n",
    "plt.xlabel('Number of principal components in regression')\n",
    "plt.ylabel('RMSE')\n",
    "plt.title('Quality')\n",
    "plt.xlim(xmin=-1);\n",
    "# plt.ylim(ymin=0.7, ymax=0.86);\n",
    "plt.xticks(np.arange(X_train_pc.shape[1]), np.arange(1, X_train_pc.shape[1]+1))\n",
    "plt.axhline(y=lr_score_train, color='g', linestyle='-');"
   ]
  },
  {
   "cell_type": "code",
   "execution_count": 27,
   "id": "2496f10d",
   "metadata": {},
   "outputs": [],
   "source": [
    "# Visually determine optimal number of principal components\n",
    "best_pc_num = 7"
   ]
  },
  {
   "cell_type": "markdown",
   "id": "e3a5900b",
   "metadata": {},
   "source": [
    "#### Predict"
   ]
  },
  {
   "cell_type": "code",
   "execution_count": 28,
   "id": "6ce87168",
   "metadata": {},
   "outputs": [],
   "source": [
    "# Train model on training set\n",
    "lin_reg_pc = LinearRegression().fit(X_train_pc[:,:best_pc_num], y_train)"
   ]
  },
  {
   "cell_type": "code",
   "execution_count": 29,
   "id": "d74c6e3d",
   "metadata": {},
   "outputs": [
    {
     "data": {
      "text/plain": [
       "0.663885486700465"
      ]
     },
     "execution_count": 29,
     "metadata": {},
     "output_type": "execute_result"
    }
   ],
   "source": [
    "pcr_score_train = -1 * cross_val_score(lin_reg_pc, X_train_pc[:,:best_pc_num], y_train, \n",
    "                                 cv=cv, scoring='neg_root_mean_squared_error').mean()\n",
    "pcr_score_train"
   ]
  },
  {
   "cell_type": "code",
   "execution_count": 30,
   "id": "2a98f2c7",
   "metadata": {},
   "outputs": [
    {
     "data": {
      "text/plain": [
       "(320, 7)"
      ]
     },
     "execution_count": 30,
     "metadata": {},
     "output_type": "execute_result"
    }
   ],
   "source": [
    "# Get principal components of test set\n",
    "X_test_pc = pca.transform(X_test_scaled)[:,:best_pc_num]\n",
    "X_test_pc.shape"
   ]
  },
  {
   "cell_type": "code",
   "execution_count": 31,
   "id": "7b599740",
   "metadata": {},
   "outputs": [
    {
     "data": {
      "text/plain": [
       "0.635331233810316"
      ]
     },
     "execution_count": 31,
     "metadata": {},
     "output_type": "execute_result"
    }
   ],
   "source": [
    "# Predict on test data\n",
    "preds = lin_reg_pc.predict(X_test_pc)\n",
    "pcr_score_test = mean_squared_error(y_test, preds, squared=False)\n",
    "pcr_score_test"
   ]
  },
  {
   "cell_type": "markdown",
   "id": "43e99e6e",
   "metadata": {},
   "source": [
    "___\n",
    "### Evaluation"
   ]
  },
  {
   "cell_type": "code",
   "execution_count": 32,
   "id": "fba52253",
   "metadata": {},
   "outputs": [
    {
     "data": {
      "text/html": [
       "<div>\n",
       "<style scoped>\n",
       "    .dataframe tbody tr th:only-of-type {\n",
       "        vertical-align: middle;\n",
       "    }\n",
       "\n",
       "    .dataframe tbody tr th {\n",
       "        vertical-align: top;\n",
       "    }\n",
       "\n",
       "    .dataframe thead th {\n",
       "        text-align: right;\n",
       "    }\n",
       "</style>\n",
       "<table border=\"1\" class=\"dataframe\">\n",
       "  <thead>\n",
       "    <tr style=\"text-align: right;\">\n",
       "      <th></th>\n",
       "      <th>RMSE (Train Set)</th>\n",
       "    </tr>\n",
       "  </thead>\n",
       "  <tbody>\n",
       "    <tr>\n",
       "      <th>Linear Regression</th>\n",
       "      <td>0.660</td>\n",
       "    </tr>\n",
       "    <tr>\n",
       "      <th>Lasso Regression</th>\n",
       "      <td>0.659</td>\n",
       "    </tr>\n",
       "    <tr>\n",
       "      <th>Ridge Regression</th>\n",
       "      <td>0.660</td>\n",
       "    </tr>\n",
       "    <tr>\n",
       "      <th>PCR (7 components)</th>\n",
       "      <td>0.664</td>\n",
       "    </tr>\n",
       "  </tbody>\n",
       "</table>\n",
       "</div>"
      ],
      "text/plain": [
       "                    RMSE (Train Set)\n",
       "Linear Regression              0.660\n",
       "Lasso Regression               0.659\n",
       "Ridge Regression               0.660\n",
       "PCR (7 components)             0.664"
      ]
     },
     "execution_count": 32,
     "metadata": {},
     "output_type": "execute_result"
    }
   ],
   "source": [
    "train_metrics = np.array([round(lr_score_train,3), round(lasso_score_train,3), round(ridge_score_train,3), round(pcr_score_train,3)]) \n",
    "train_metrics = pd.DataFrame(train_metrics, columns=['RMSE (Train Set)'])\n",
    "train_metrics.index = ['Linear Regression', 'Lasso Regression', \n",
    "                 'Ridge Regression', f'PCR ({best_pc_num} components)']\n",
    "train_metrics"
   ]
  },
  {
   "cell_type": "code",
   "execution_count": 33,
   "id": "1b43cb64",
   "metadata": {},
   "outputs": [
    {
     "data": {
      "text/html": [
       "<div>\n",
       "<style scoped>\n",
       "    .dataframe tbody tr th:only-of-type {\n",
       "        vertical-align: middle;\n",
       "    }\n",
       "\n",
       "    .dataframe tbody tr th {\n",
       "        vertical-align: top;\n",
       "    }\n",
       "\n",
       "    .dataframe thead th {\n",
       "        text-align: right;\n",
       "    }\n",
       "</style>\n",
       "<table border=\"1\" class=\"dataframe\">\n",
       "  <thead>\n",
       "    <tr style=\"text-align: right;\">\n",
       "      <th></th>\n",
       "      <th>RMSE (Test Set)</th>\n",
       "    </tr>\n",
       "  </thead>\n",
       "  <tbody>\n",
       "    <tr>\n",
       "      <th>Linear Regression</th>\n",
       "      <td>0.625</td>\n",
       "    </tr>\n",
       "    <tr>\n",
       "      <th>Lasso Regression</th>\n",
       "      <td>0.627</td>\n",
       "    </tr>\n",
       "    <tr>\n",
       "      <th>Ridge Regression</th>\n",
       "      <td>0.625</td>\n",
       "    </tr>\n",
       "    <tr>\n",
       "      <th>PCR (7 components)</th>\n",
       "      <td>0.635</td>\n",
       "    </tr>\n",
       "  </tbody>\n",
       "</table>\n",
       "</div>"
      ],
      "text/plain": [
       "                    RMSE (Test Set)\n",
       "Linear Regression             0.625\n",
       "Lasso Regression              0.627\n",
       "Ridge Regression              0.625\n",
       "PCR (7 components)            0.635"
      ]
     },
     "execution_count": 33,
     "metadata": {},
     "output_type": "execute_result"
    }
   ],
   "source": [
    "test_metrics = np.array([round(lr_score_test,3), round(lasso_score_test,3), round(ridge_score_test,3), round(pcr_score_test,3)]) \n",
    "test_metrics = pd.DataFrame(test_metrics, columns=['RMSE (Test Set)'])\n",
    "test_metrics.index = ['Linear Regression', 'Lasso Regression', \n",
    "                      'Ridge Regression', f'PCR ({best_pc_num} components)']\n",
    "test_metrics"
   ]
  },
  {
   "cell_type": "code",
   "execution_count": null,
   "id": "ddab657e",
   "metadata": {},
   "outputs": [],
   "source": []
  }
 ],
 "metadata": {
  "kernelspec": {
   "display_name": "Python 3",
   "language": "python",
   "name": "python3"
  },
  "language_info": {
   "codemirror_mode": {
    "name": "ipython",
    "version": 3
   },
   "file_extension": ".py",
   "mimetype": "text/x-python",
   "name": "python",
   "nbconvert_exporter": "python",
   "pygments_lexer": "ipython3",
   "version": "3.7.7"
  }
 },
 "nbformat": 4,
 "nbformat_minor": 5
}
